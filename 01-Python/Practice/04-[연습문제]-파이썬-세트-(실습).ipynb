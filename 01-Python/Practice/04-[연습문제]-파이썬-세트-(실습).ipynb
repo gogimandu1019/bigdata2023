{
 "cells": [
  {
   "cell_type": "code",
   "execution_count": 1,
   "metadata": {},
   "outputs": [
    {
     "name": "stdout",
     "output_type": "stream",
     "text": [
      "이름을 입력하세요: 곽민선\n",
      "곽민선 님 반갑습니다😀\n",
      "그룹ID: None\n",
      "\n",
      "[주의사항]\n",
      "- 비윤리적인 닉네임은 예고없이 삭제될 수 있어요😡\n",
      "- 제출 기록은 아래 주소에서 확인해 주세요😆\n",
      "https://pycodegrade-web.herokuapp.com/\n",
      "\n",
      "- 문의/오류제보: teddylee777@gmail.com\n"
     ]
    }
   ],
   "source": [
    "!pip install -U pycodegrade -q\n",
    "from pycodegrade import grader as gd\n",
    "\n",
    "uid = 'PY04'\n",
    "group_id = None\n",
    "gd.init('Python', uid, group_id)"
   ]
  },
  {
   "cell_type": "markdown",
   "metadata": {},
   "source": [
    "## Part1. 세트(set)의 활용"
   ]
  },
  {
   "cell_type": "code",
   "execution_count": 44,
   "metadata": {},
   "outputs": [
    {
     "name": "stdout",
     "output_type": "stream",
     "text": [
      "sample1: {1, 2, 3, 4, 5}\n",
      "sample2: {2, 4, 5, 6, 7}\n"
     ]
    }
   ],
   "source": [
    "sample1 = {1, 2, 3, 4, 5}\n",
    "sample2 = {2, 4, 5, 6, 7}\n",
    "\n",
    "print(f'sample1: {sample1}')\n",
    "print(f'sample2: {sample2}')"
   ]
  },
  {
   "cell_type": "markdown",
   "metadata": {},
   "source": [
    "### 1\n",
    "> `sample1` 에 `6` 을 추가해 주세요"
   ]
  },
  {
   "cell_type": "code",
   "execution_count": 45,
   "metadata": {},
   "outputs": [
    {
     "data": {
      "text/plain": [
       "{1, 2, 3, 4, 5, 6}"
      ]
     },
     "execution_count": 45,
     "metadata": {},
     "output_type": "execute_result"
    }
   ],
   "source": [
    "# 코드를 입력해 주세요\n",
    "sample1.add(6)\n",
    "sample1"
   ]
  },
  {
   "cell_type": "markdown",
   "metadata": {},
   "source": [
    "<p><strong>[출력 결과]</strong></p><pre>{1, 2, 3, 4, 5, 6}</pre>"
   ]
  },
  {
   "cell_type": "code",
   "execution_count": 46,
   "metadata": {},
   "outputs": [
    {
     "name": "stdout",
     "output_type": "stream",
     "text": [
      "Result: [PASS]\n"
     ]
    }
   ],
   "source": [
    "# 코드검증\n",
    "# 검증코드는 수정하지 않고 실행하여 결과를 확인합니다 (Pass/Fail)\n",
    "gd.check_answer(sample1, 1)"
   ]
  },
  {
   "cell_type": "markdown",
   "metadata": {},
   "source": [
    "### 2\n",
    "> `sample2`에 2를 제거해 주세요"
   ]
  },
  {
   "cell_type": "code",
   "execution_count": 47,
   "metadata": {},
   "outputs": [
    {
     "data": {
      "text/plain": [
       "{4, 5, 6, 7}"
      ]
     },
     "execution_count": 47,
     "metadata": {},
     "output_type": "execute_result"
    }
   ],
   "source": [
    "# 코드를 입력해 주세요\n",
    "sample2.remove(2)\n",
    "sample2"
   ]
  },
  {
   "cell_type": "markdown",
   "metadata": {},
   "source": [
    "<p><strong>[출력 결과]</strong></p><pre>{4, 5, 6, 7}</pre>"
   ]
  },
  {
   "cell_type": "code",
   "execution_count": 48,
   "metadata": {},
   "outputs": [
    {
     "name": "stdout",
     "output_type": "stream",
     "text": [
      "Result: [PASS]\n"
     ]
    }
   ],
   "source": [
    "# 코드검증\n",
    "# 검증코드는 수정하지 않고 실행하여 결과를 확인합니다 (Pass/Fail)\n",
    "gd.check_answer(sample2, 2)"
   ]
  },
  {
   "cell_type": "markdown",
   "metadata": {},
   "source": [
    "### 3"
   ]
  },
  {
   "cell_type": "markdown",
   "metadata": {},
   "source": [
    "> `sample1`과 `sample2`의 **교집합** 을 출력하세요."
   ]
  },
  {
   "cell_type": "code",
   "execution_count": 49,
   "metadata": {},
   "outputs": [],
   "source": [
    "# 코드를 입력해 주세요\n",
    "answer = sample1 & sample2"
   ]
  },
  {
   "cell_type": "markdown",
   "metadata": {},
   "source": [
    "<p><strong>[출력 결과]</strong></p><pre>{4, 5, 6}</pre>"
   ]
  },
  {
   "cell_type": "code",
   "execution_count": 50,
   "metadata": {},
   "outputs": [
    {
     "name": "stdout",
     "output_type": "stream",
     "text": [
      "Result: [PASS]\n"
     ]
    }
   ],
   "source": [
    "# 코드검증\n",
    "# 검증코드는 수정하지 않고 실행하여 결과를 확인합니다 (Pass/Fail)\n",
    "gd.check_answer(answer, 3)"
   ]
  },
  {
   "cell_type": "markdown",
   "metadata": {},
   "source": [
    "### 4"
   ]
  },
  {
   "cell_type": "markdown",
   "metadata": {},
   "source": [
    "> `sample1`과 `sample2`의 **합집합** 을 출력하세요.\n",
    "> - 결과를 `answer` 변수에 대입하세요."
   ]
  },
  {
   "cell_type": "code",
   "execution_count": 51,
   "metadata": {},
   "outputs": [
    {
     "data": {
      "text/plain": [
       "{1, 2, 3, 4, 5, 6, 7}"
      ]
     },
     "execution_count": 51,
     "metadata": {},
     "output_type": "execute_result"
    }
   ],
   "source": [
    "# 코드를 입력해 주세요\n",
    "answer = sample1 | sample2\n",
    "answer"
   ]
  },
  {
   "cell_type": "code",
   "execution_count": 52,
   "metadata": {},
   "outputs": [
    {
     "name": "stdout",
     "output_type": "stream",
     "text": [
      "Result: [PASS]\n"
     ]
    }
   ],
   "source": [
    "# 코드검증\n",
    "# 검증코드는 수정하지 않고 실행하여 결과를 확인합니다 (Pass/Fail)\n",
    "gd.check_answer(answer, 4)"
   ]
  },
  {
   "cell_type": "markdown",
   "metadata": {},
   "source": [
    "### 5"
   ]
  },
  {
   "cell_type": "markdown",
   "metadata": {},
   "source": [
    "> `sample1`과 `sample2`의 **차집합** 을 활용하여 다음과 같이 출력하세요.\n",
    "> - 결과를 `answer` 변수에 대입하세요."
   ]
  },
  {
   "cell_type": "code",
   "execution_count": 53,
   "metadata": {},
   "outputs": [
    {
     "data": {
      "text/plain": [
       "{1, 2, 3}"
      ]
     },
     "execution_count": 53,
     "metadata": {},
     "output_type": "execute_result"
    }
   ],
   "source": [
    "# 코드를 입력해 주세요\n",
    "answer = sample1 - sample2\n",
    "answer"
   ]
  },
  {
   "cell_type": "code",
   "execution_count": 54,
   "metadata": {},
   "outputs": [
    {
     "name": "stdout",
     "output_type": "stream",
     "text": [
      "Result: [PASS]\n"
     ]
    }
   ],
   "source": [
    "# 코드검증\n",
    "# 검증코드는 수정하지 않고 실행하여 결과를 확인합니다 (Pass/Fail)\n",
    "gd.check_answer(answer, 5)"
   ]
  },
  {
   "cell_type": "markdown",
   "metadata": {
    "id": "24pLdsBX3PXx"
   },
   "source": [
    "## Part2. 중복제거"
   ]
  },
  {
   "cell_type": "markdown",
   "metadata": {},
   "source": [
    "### 6"
   ]
  },
  {
   "cell_type": "markdown",
   "metadata": {
    "id": "24pLdsBX3PXx"
   },
   "source": [
    "> 다음 주어진 `numList` 리스트에서 **중복된 요소** 를 **제거** 하세요.\n",
    "> - 최종 출력 값은 `answer` 변수에 대입하고 `list` 형태로 출력하세요"
   ]
  },
  {
   "cell_type": "code",
   "execution_count": 55,
   "metadata": {},
   "outputs": [],
   "source": [
    "numList = [1, 3, 2, 3, 7, 6, 8, 4, 10, 5, 3, 8, 9]"
   ]
  },
  {
   "cell_type": "code",
   "execution_count": 57,
   "metadata": {
    "colab": {
     "base_uri": "https://localhost:8080/",
     "height": 35
    },
    "id": "lLEILpf03PXx",
    "outputId": "9bfbe7e7-a6aa-4e44-9375-a226727c9e9c"
   },
   "outputs": [
    {
     "data": {
      "text/plain": [
       "[1, 2, 3, 4, 5, 6, 7, 8, 9, 10]"
      ]
     },
     "execution_count": 57,
     "metadata": {},
     "output_type": "execute_result"
    }
   ],
   "source": [
    "# 코드를 입력해 주세요\n",
    "numList = set(numList)\n",
    "answer = list(numList)\n",
    "answer"
   ]
  },
  {
   "cell_type": "code",
   "execution_count": 58,
   "metadata": {},
   "outputs": [
    {
     "name": "stdout",
     "output_type": "stream",
     "text": [
      "Result: [PASS]\n"
     ]
    }
   ],
   "source": [
    "# 코드검증\n",
    "# 검증코드는 수정하지 않고 실행하여 결과를 확인합니다 (Pass/Fail)\n",
    "gd.check_answer(answer, 6)"
   ]
  },
  {
   "cell_type": "code",
   "execution_count": null,
   "metadata": {},
   "outputs": [],
   "source": []
  }
 ],
 "metadata": {
  "colab": {
   "collapsed_sections": [],
   "name": "04-[연습문제]-파이썬-세트-(실습)",
   "provenance": []
  },
  "kernelspec": {
   "display_name": "Python 3 (ipykernel)",
   "language": "python",
   "name": "python3"
  },
  "language_info": {
   "codemirror_mode": {
    "name": "ipython",
    "version": 3
   },
   "file_extension": ".py",
   "mimetype": "text/x-python",
   "name": "python",
   "nbconvert_exporter": "python",
   "pygments_lexer": "ipython3",
   "version": "3.8.16"
  }
 },
 "nbformat": 4,
 "nbformat_minor": 1
}
