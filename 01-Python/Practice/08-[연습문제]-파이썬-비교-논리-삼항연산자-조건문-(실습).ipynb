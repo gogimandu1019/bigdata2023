{
 "cells": [
  {
   "cell_type": "markdown",
   "metadata": {},
   "source": [
    "## Part1. 삼항연산자\n",
    "\n",
    "삼항연산자 문법을 활용하여 다음을 풀어보세요"
   ]
  },
  {
   "cell_type": "markdown",
   "metadata": {},
   "source": [
    "### 1 "
   ]
  },
  {
   "cell_type": "code",
   "execution_count": 2,
   "metadata": {},
   "outputs": [],
   "source": [
    "age = 35"
   ]
  },
  {
   "cell_type": "code",
   "execution_count": 3,
   "metadata": {},
   "outputs": [
    {
     "data": {
      "text/plain": [
       "'30세 이상입니다.'"
      ]
     },
     "execution_count": 3,
     "metadata": {},
     "output_type": "execute_result"
    }
   ],
   "source": [
    "# 코드를 입력해 주세요\n",
    "'30세 이상입니다.' if(age >= 30) else '30세 이하입니다.'"
   ]
  },
  {
   "cell_type": "markdown",
   "metadata": {},
   "source": [
    "<p><strong>[출력 결과]</strong></p><pre>'30세 이상입니다.'</pre>"
   ]
  },
  {
   "cell_type": "code",
   "execution_count": 3,
   "metadata": {},
   "outputs": [],
   "source": [
    "age = 20"
   ]
  },
  {
   "cell_type": "code",
   "execution_count": 4,
   "metadata": {},
   "outputs": [
    {
     "data": {
      "text/plain": [
       "'30세 이하입니다.'"
      ]
     },
     "execution_count": 4,
     "metadata": {},
     "output_type": "execute_result"
    }
   ],
   "source": [
    "# 코드를 입력해 주세요\n",
    "'30세 이상입니다.' if(age >= 30) else '30세 이하입니다.'"
   ]
  },
  {
   "cell_type": "markdown",
   "metadata": {},
   "source": [
    "<p><strong>[출력 결과]</strong></p><pre>'30세 이하입니다.'</pre>"
   ]
  },
  {
   "cell_type": "markdown",
   "metadata": {},
   "source": [
    "### 2"
   ]
  },
  {
   "cell_type": "markdown",
   "metadata": {},
   "source": [
    "사용자에게 몸무게를 입력 받아 과체중인지 정상 체중인지 출력하는 프로그램을 만드세요.\n",
    "\n",
    "- 몸무게가 100kg 초과이면 '귀하는 과체중 입니다.' 메시지를 출력하세요\n",
    "- 몸무게가 100kg 이하이면 '귀하는 정상체중 입니다.' 메시지를 출력하세요\n",
    "- 몸무게 입력은 input() 함수를 사용하여 입력 받습니다.\n",
    "- 반드시 **삼항연산자를 활용**하세요"
   ]
  },
  {
   "cell_type": "code",
   "execution_count": 2,
   "metadata": {},
   "outputs": [
    {
     "name": "stdout",
     "output_type": "stream",
     "text": [
      "안녕하세요\n"
     ]
    },
    {
     "data": {
      "text/plain": [
       "'안녕하세요'"
      ]
     },
     "execution_count": 2,
     "metadata": {},
     "output_type": "execute_result"
    }
   ],
   "source": [
    "input()"
   ]
  },
  {
   "cell_type": "code",
   "execution_count": null,
   "metadata": {},
   "outputs": [],
   "source": [
    "a = input('몸무게를 입력해주세요: ')"
   ]
  },
  {
   "cell_type": "code",
   "execution_count": 6,
   "metadata": {},
   "outputs": [
    {
     "data": {
      "text/plain": [
       "1234"
      ]
     },
     "execution_count": 6,
     "metadata": {},
     "output_type": "execute_result"
    }
   ],
   "source": [
    "a"
   ]
  },
  {
   "cell_type": "code",
   "execution_count": 5,
   "metadata": {},
   "outputs": [],
   "source": [
    "a= int(a)"
   ]
  },
  {
   "cell_type": "code",
   "execution_count": 7,
   "metadata": {},
   "outputs": [
    {
     "name": "stdout",
     "output_type": "stream",
     "text": [
      "몸무게를 입력해 주세요: 105\n"
     ]
    }
   ],
   "source": [
    "# 입력 예시 (105로 입력한 경우)\n",
    "weight = input('몸무게를 입력해 주세요: ')"
   ]
  },
  {
   "cell_type": "code",
   "execution_count": 4,
   "metadata": {},
   "outputs": [
    {
     "name": "stdout",
     "output_type": "stream",
     "text": [
      "몸무게를 입력해 주세요: 111\n"
     ]
    },
    {
     "data": {
      "text/plain": [
       "'귀하는 과체중 입니다.'"
      ]
     },
     "execution_count": 4,
     "metadata": {},
     "output_type": "execute_result"
    }
   ],
   "source": [
    "# 코드를 입력해 주세요\n",
    "weight = input('몸무게를 입력해 주세요: ')\n",
    "weight = int(weight)\n",
    "'귀하는 과체중 입니다.' if(weight >= 100) else '귀하는 정상체중 입니다.'"
   ]
  },
  {
   "cell_type": "markdown",
   "metadata": {},
   "source": [
    "<p><strong>[출력 결과]</strong></p><pre>'귀하는 과체중 입니다.'</pre>"
   ]
  },
  {
   "cell_type": "markdown",
   "metadata": {},
   "source": [
    "### 3"
   ]
  },
  {
   "cell_type": "markdown",
   "metadata": {},
   "source": [
    "- (몸무게 + 100 - 키)를 비만 수치 공식이라고 가정합니다.\n",
    "- 키와 몸무게를 입력받아 첫 번째 줄에 비만 수치를 출력합니다.\n",
    "- 비만 수치가 0보다 크면 비만이라는 메시지를 출력하세요.\n",
    "\n",
    "```\n",
    "입력 예) info =[155, 60] (키, 몸무게 순)\n",
    "출력[1]: 비만수치는 5 입니다.\n",
    "출력[2]: 당신은 비만입니다.\n",
    "```"
   ]
  },
  {
   "cell_type": "code",
   "execution_count": 7,
   "metadata": {},
   "outputs": [],
   "source": [
    "info = [155, 60]"
   ]
  },
  {
   "cell_type": "code",
   "execution_count": 8,
   "metadata": {},
   "outputs": [
    {
     "name": "stdout",
     "output_type": "stream",
     "text": [
      "비만수치는 5입니다.\n",
      "당신은 비만입니다.\n"
     ]
    }
   ],
   "source": [
    "# 코드를 입력해 주세요\n",
    "height, weight = info\n",
    "bmi = weight + 100 - height\n",
    "print(f'비만수치는 {bmi}입니다.')\n",
    "if bmi > 0:\n",
    "      print('당신은 비만입니다.')"
   ]
  },
  {
   "cell_type": "markdown",
   "metadata": {},
   "source": [
    "<p><strong>[출력 결과]</strong></p><pre>비만수치는 5입니다\n",
    "당신은 비만입니다.\n",
    "</pre>"
   ]
  },
  {
   "cell_type": "markdown",
   "metadata": {},
   "source": [
    "## Part2. 조건문"
   ]
  },
  {
   "cell_type": "markdown",
   "metadata": {},
   "source": [
    "### 4"
   ]
  },
  {
   "cell_type": "markdown",
   "metadata": {},
   "source": [
    "성적을 입력받아 90점 이상이면 A, 80점이상이면 B, 70점 이상이면 C, 70점 미만이면 D를 출력하세요\n",
    "- 단, 점수가 음수이거나 100점을 초과하는 경우에는 '에러'를 출력하세요\n",
    "\n",
    "힌트) input() 함수를 사용합니다.\n",
    "- input() 함수는 사용자로부터 입력 값을 받을 수 있습니다."
   ]
  },
  {
   "cell_type": "code",
   "execution_count": 13,
   "metadata": {},
   "outputs": [
    {
     "name": "stdout",
     "output_type": "stream",
     "text": [
      "점수를 입력해주세요: 50\n",
      "D\n"
     ]
    }
   ],
   "source": [
    "# 코드를 입력해 주세요\n",
    "score = input('점수를 입력해주세요: ')\n",
    "score = int(score)\n",
    "score\n",
    "\n",
    "if score > 100 or score < 0:\n",
    "    print('에러')\n",
    "elif score >= 90:\n",
    "    print('A')\n",
    "elif score >= 80:\n",
    "    print('B')\n",
    "elif score >= 70:\n",
    "    print('C')\n",
    "else:\n",
    "    print('D')"
   ]
  },
  {
   "cell_type": "markdown",
   "metadata": {},
   "source": [
    "<p><strong>[출력 결과]</strong></p><pre>점수를 입력해 주세요: 95\n",
    "A\n",
    "</pre>"
   ]
  },
  {
   "cell_type": "markdown",
   "metadata": {},
   "source": [
    "- 95점 입력시: A\n",
    "- 75점 입력시: C\n",
    "- -10점 입력시: 에러\n",
    "- 105점 입력시: 에러"
   ]
  },
  {
   "cell_type": "markdown",
   "metadata": {},
   "source": [
    "### 5"
   ]
  },
  {
   "cell_type": "markdown",
   "metadata": {},
   "source": [
    "사용자로부터 `달러`, `엔`, `유로`, 또는 `위안` 금액을 입력받은 후 이를 `원`으로 변환하는 프로그램을 작성해 주세요. \n",
    "\n",
    "각 통화별 환율은 다음과 같다. \n",
    "\n",
    "- 달러: 1237.0\n",
    "- 엔: 9.66\n",
    "- 유로: 1349.69\n",
    "- 위안: 194.57\n",
    "\n",
    "사용자는 10 달러, 200 엔, 30 유로, 100 위안과 같이 금액과 통화명 사이에 **공백**을 넣어 입력한다고 가정합니다.\n",
    "\n",
    "입력 예시) `10 달러`\n",
    "\n",
    "결과 예시) `11670.0원`"
   ]
  },
  {
   "cell_type": "code",
   "execution_count": 29,
   "metadata": {},
   "outputs": [
    {
     "name": "stdout",
     "output_type": "stream",
     "text": [
      "입력: 10 달러\n",
      "12370.0 원\n"
     ]
    }
   ],
   "source": [
    "# 코드를 입력해 주세요\n",
    "user_input = input('입력: ')\n",
    "money, unit = user_input.split()\n",
    "money = float(money)\n",
    "\n",
    "if unit == \"달러\":\n",
    "    money *= 1237.0\n",
    "elif unit==\"엔\":\n",
    "    money *= 9.66\n",
    "elif unit ==\"유로\":\n",
    "    money *= 1349.69\n",
    "elif unit ==\"위안\":\n",
    "    money *= 194.57\n",
    "else:\n",
    "    print(\"에러\")\n",
    "print(f'{money} 원')"
   ]
  },
  {
   "cell_type": "code",
   "execution_count": 36,
   "metadata": {
    "scrolled": true
   },
   "outputs": [
    {
     "name": "stdout",
     "output_type": "stream",
     "text": [
      "입력: 10 달러\n"
     ]
    },
    {
     "data": {
      "text/plain": [
       "10.0"
      ]
     },
     "execution_count": 36,
     "metadata": {},
     "output_type": "execute_result"
    }
   ],
   "source": [
    "user_input = input('입력: ')\n",
    "money, unit = user_input.split()\n",
    "money = float(money)\n",
    "money"
   ]
  },
  {
   "cell_type": "code",
   "execution_count": 40,
   "metadata": {},
   "outputs": [
    {
     "name": "stdout",
     "output_type": "stream",
     "text": [
      "입력: 100 엔\n",
      "966.0\n"
     ]
    }
   ],
   "source": [
    "user_input = input('입력: ')\n",
    "money, unit = user_input.split()\n",
    "money = float(money)\n",
    "\n",
    "currency = {\n",
    "    '달러' : 1237.0,\n",
    "    '엔' : 9.66,\n",
    "    '유로' : 1349.69,\n",
    "    '위안' : 194.57\n",
    "}\n",
    "print(money * currency[unit])"
   ]
  },
  {
   "cell_type": "code",
   "execution_count": 34,
   "metadata": {},
   "outputs": [],
   "source": [
    "currency['달러'] = 1200"
   ]
  },
  {
   "cell_type": "markdown",
   "metadata": {},
   "source": [
    "<p><strong>[출력 결과]</strong></p><pre>입력: 10 달러\n",
    "12370.0 원\n",
    "</pre>"
   ]
  }
 ],
 "metadata": {
  "colab": {
   "collapsed_sections": [],
   "name": "08-[연습문제]-파이썬-비교-논리-삼항연산자-조건문-(실습)",
   "provenance": []
  },
  "kernelspec": {
   "display_name": "Python 3 (ipykernel)",
   "language": "python",
   "name": "python3"
  },
  "language_info": {
   "codemirror_mode": {
    "name": "ipython",
    "version": 3
   },
   "file_extension": ".py",
   "mimetype": "text/x-python",
   "name": "python",
   "nbconvert_exporter": "python",
   "pygments_lexer": "ipython3",
   "version": "3.8.16"
  }
 },
 "nbformat": 4,
 "nbformat_minor": 1
}
