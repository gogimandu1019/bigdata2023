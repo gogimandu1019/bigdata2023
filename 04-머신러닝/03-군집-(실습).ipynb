{
 "cells": [
  {
   "cell_type": "markdown",
   "id": "6b594e61",
   "metadata": {},
   "source": [
    "## 필요한 모듈 import"
   ]
  },
  {
   "cell_type": "code",
   "execution_count": null,
   "id": "142366fc",
   "metadata": {},
   "outputs": [],
   "source": [
    "import pandas as pd\n",
    "import numpy as np\n",
    "import seaborn as sns\n",
    "from IPython.display import Image\n",
    "\n",
    "pd.options.display.max_columns = None"
   ]
  },
  {
   "cell_type": "markdown",
   "id": "1b868411",
   "metadata": {},
   "source": [
    "## 실습을 위한 데이터셋 로드"
   ]
  },
  {
   "cell_type": "code",
   "execution_count": null,
   "id": "956dfdab",
   "metadata": {
    "id": "956dfdab",
    "outputId": "0d068a18-0f77-4049-af99-a14f57d39db6"
   },
   "outputs": [],
   "source": [
    "from pycaret.datasets import get_data\n",
    "\n",
    "data = get_data('jewellery')"
   ]
  },
  {
   "cell_type": "markdown",
   "id": "c00f6a4a",
   "metadata": {
    "id": "c00f6a4a"
   },
   "source": [
    "## 설정: setup()"
   ]
  },
  {
   "cell_type": "code",
   "execution_count": null,
   "id": "97f2c6c6",
   "metadata": {
    "id": "97f2c6c6",
    "outputId": "ab07419b-0afc-479f-a862-a6298c45f293"
   },
   "outputs": [],
   "source": [
    "from pycaret.clustering import *\n",
    "\n",
    "s = setup(data,            \n",
    "          session_id=123, \n",
    "          verbose=False)"
   ]
  },
  {
   "cell_type": "markdown",
   "id": "5de1eab6",
   "metadata": {
    "id": "5de1eab6"
   },
   "source": [
    "## 모델 생성: create_model()\n",
    "\n",
    "KMeans 알고리즘\n",
    "\n",
    "- [K-Means Clustering 데모](https://www.naftaliharris.com/blog/visualizing-k-means-clustering/)\n",
    "\n",
    "- 군집화에서 가장 대중적으로 사용되는 알고리즘입니다. \n",
    "\n",
    "- **centroid라는 중점을 기준으로 가장 가까운 포인트들을 선택하는 군집화** 기법입니다.\n",
    "\n",
    "- 뒤섞여 있는 데이터를 원하는 갯수로 군집화 합니다.\n",
    "\n",
    "**사용되는 예제**\n",
    "\n",
    "- 스팸 문자 분류\n",
    "- 뉴스 기사 분류"
   ]
  },
  {
   "cell_type": "code",
   "execution_count": null,
   "id": "f8b61dbb",
   "metadata": {},
   "outputs": [],
   "source": [
    "Image(url='https://image.slidesharecdn.com/patternrecognitionbinoy-06-kmeansclustering-160317135729/95/pattern-recognition-binoy-k-means-clustering-13-638.jpg')"
   ]
  },
  {
   "cell_type": "code",
   "execution_count": null,
   "id": "65a19df4",
   "metadata": {
    "colab": {
     "referenced_widgets": [
      ""
     ]
    },
    "id": "65a19df4",
    "outputId": "bf292dec-fb90-4bf8-aac7-3ec3b041f265"
   },
   "outputs": [],
   "source": [
    "# Kmeans 알고리즘을 생성한 뒤 학습합니다.\n",
    "kmeans = create_model('kmeans')"
   ]
  },
  {
   "cell_type": "markdown",
   "id": "8aad62df",
   "metadata": {
    "id": "8aad62df"
   },
   "source": [
    "## 모델 학습: assign_model()"
   ]
  },
  {
   "cell_type": "code",
   "execution_count": null,
   "id": "f1e54158",
   "metadata": {
    "id": "f1e54158",
    "outputId": "64c0fa49-6354-4d25-b4b9-1b666e13fb40"
   },
   "outputs": [],
   "source": [
    "# 학습된 모델로 각 데이터의 클러스터를 예측합니다.\n",
    "kmeans_cluster = assign_model(kmeans)\n",
    "kmeans_cluster"
   ]
  },
  {
   "cell_type": "markdown",
   "id": "6a77ec0c",
   "metadata": {
    "id": "6a77ec0c"
   },
   "source": [
    "## 모델 예측결과 분석\n",
    "\n",
    "Elbow Plot을 분석하는 방법은 다음과 같습니다.\n",
    "\n",
    "- **그래프에서 경향성 파악** : Elbow Plot을 살펴보면 클러스터 개수가 증가할수록 WCSS 값이 감소하는 것을 볼 수 있습니다. 그러나 그래프 상에서 어디까지 클러스터의 개수를 늘리는 것이 좋은지 판단하기 위해서는 그래프에서 \"굽이\"가 어디에 있는지 파악해야 합니다.\n",
    "\n",
    "- **굽이 파악** : 굽이가 어디에 있는지 파악하는 것이 Elbow Plot을 해석하는 핵심입니다. 그래프에서 굽이를 찾으면, 그 지점 이후로 클러스터의 개수를 늘려도 WCSS 값의 감소가 크게 일어나지 않는 것을 의미합니다. 따라서, 굽이가 있는 지점이 최적의 클러스터 개수라고 판단할 수 있습니다.\n",
    "\n",
    "- **최적의 클러스터 개수 결정** : 굽이를 찾은 후, 그 지점을 기준으로 최적의 클러스터 개수를 결정할 수 있습니다. 굽이의 위치가 명확하지 않을 경우, 여러 가지 클러스터 개수에 대해 K-Means 알고리즘을 실행한 후, 각각의 WCSS 값을 비교하여 최적의 클러스터 개수를 결정할 수도 있습니다.\n",
    "\n",
    "따라서, Elbow Plot을 사용하여 최적의 클러스터 개수를 결정하는 방법은 굽이를 찾는 것입니다. 굽이의 위치를 파악하고, 그 지점을 기준으로 최적의 클러스터 개수를 결정하면 됩니다."
   ]
  },
  {
   "cell_type": "code",
   "execution_count": null,
   "id": "9fc4b9b1",
   "metadata": {
    "id": "9fc4b9b1",
    "outputId": "0056a721-e58b-43c6-e95d-ca72da00b51c"
   },
   "outputs": [],
   "source": [
    "# plot elbow\n",
    "plot_model(kmeans, plot = 'elbow')"
   ]
  },
  {
   "cell_type": "code",
   "execution_count": null,
   "id": "dfb16d73",
   "metadata": {},
   "outputs": [],
   "source": [
    "# 이전에 찾은 Elbow 값을 적용한 뒤 결과를 확인합니다 (실루엣 계수)\n",
    "# 실루엣 계수는 클러스터의 품질을 평가하기 위하여 활용합니다.\n",
    "kmeans = create_model('kmeans', num_clusters=3)"
   ]
  },
  {
   "cell_type": "markdown",
   "id": "3a5701f3",
   "metadata": {},
   "source": [
    "## 예측: predict_model()"
   ]
  },
  {
   "cell_type": "code",
   "execution_count": null,
   "id": "87c1a007",
   "metadata": {
    "id": "87c1a007",
    "outputId": "7b26508b-07f8-4027-f294-d02a09e1d03a"
   },
   "outputs": [],
   "source": [
    "kmeans_pred = predict_model(kmeans, data=data)\n",
    "kmeans_pred"
   ]
  },
  {
   "cell_type": "markdown",
   "id": "145602bf",
   "metadata": {},
   "source": [
    "최종 군집 결과를 확인하고 출력 합니다."
   ]
  },
  {
   "cell_type": "code",
   "execution_count": null,
   "id": "ece2d5e8",
   "metadata": {},
   "outputs": [],
   "source": [
    "kmeans_pred['Cluster'].value_counts()"
   ]
  },
  {
   "cell_type": "markdown",
   "id": "e4384735",
   "metadata": {
    "id": "e4384735"
   },
   "source": [
    "## 저장 / 로드"
   ]
  },
  {
   "cell_type": "code",
   "execution_count": null,
   "id": "4181de41",
   "metadata": {
    "id": "4181de41",
    "outputId": "cff00a84-c3cd-4856-d010-135408b09566"
   },
   "outputs": [],
   "source": [
    "# save model\n",
    "save_model(kmeans, 'clustring-model')"
   ]
  },
  {
   "cell_type": "code",
   "execution_count": null,
   "id": "40ed5152",
   "metadata": {
    "id": "40ed5152",
    "outputId": "a797139c-5497-4d3b-82a6-3d1a1d2605b5"
   },
   "outputs": [],
   "source": [
    "# load model\n",
    "cludster_model = load_model('clustring-model')\n",
    "cludster_model"
   ]
  }
 ],
 "metadata": {
  "colab": {
   "provenance": []
  },
  "kernelspec": {
   "display_name": "Python 3 (ipykernel)",
   "language": "python",
   "name": "python3"
  },
  "language_info": {
   "codemirror_mode": {
    "name": "ipython",
    "version": 3
   },
   "file_extension": ".py",
   "mimetype": "text/x-python",
   "name": "python",
   "nbconvert_exporter": "python",
   "pygments_lexer": "ipython3",
   "version": "3.8.16"
  }
 },
 "nbformat": 4,
 "nbformat_minor": 5
}
