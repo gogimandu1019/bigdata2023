{
 "cells": [
  {
   "cell_type": "markdown",
   "id": "7f4674cd",
   "metadata": {
    "id": "7f4674cd"
   },
   "source": [
    "## 필요한 모듈 import"
   ]
  },
  {
   "cell_type": "code",
   "execution_count": null,
   "id": "77da6ea3",
   "metadata": {
    "id": "77da6ea3"
   },
   "outputs": [],
   "source": [
    "import pandas as pd\n",
    "import numpy as np\n",
    "import seaborn as sns\n",
    "\n",
    "pd.options.display.max_columns = None"
   ]
  },
  {
   "cell_type": "markdown",
   "id": "73ffae10",
   "metadata": {
    "id": "73ffae10"
   },
   "source": [
    "## 실습을 위한 데이터셋 로드"
   ]
  },
  {
   "cell_type": "code",
   "execution_count": null,
   "id": "NNEh2pF7ivJ8",
   "metadata": {
    "id": "NNEh2pF7ivJ8"
   },
   "outputs": [],
   "source": [
    "from pycaret.datasets import get_data\n",
    "dataset = get_data('insurance')"
   ]
  },
  {
   "cell_type": "code",
   "execution_count": null,
   "id": "222a5388",
   "metadata": {
    "id": "222a5388"
   },
   "outputs": [],
   "source": [
    "# 데이터셋 크기 출력\n",
    "dataset.shape"
   ]
  },
  {
   "cell_type": "code",
   "execution_count": null,
   "id": "N-Xb7KZ-2oCC",
   "metadata": {
    "id": "N-Xb7KZ-2oCC"
   },
   "outputs": [],
   "source": [
    "train = dataset.sample(frac=0.8, random_state=123)\n",
    "test = dataset.drop(train.index)\n",
    "train.reset_index(inplace=True, drop=True)\n",
    "test.reset_index(inplace=True, drop=True)\n",
    "\n",
    "print('학습용 데이터셋: ' + str(train.shape))\n",
    "print('예측용 데이터셋: ' + str(test.shape))"
   ]
  },
  {
   "cell_type": "markdown",
   "id": "6beffef3",
   "metadata": {
    "id": "6beffef3"
   },
   "source": [
    "## 설정: setup()"
   ]
  },
  {
   "cell_type": "markdown",
   "id": "aO28a9eQmR1g",
   "metadata": {
    "id": "aO28a9eQmR1g"
   },
   "source": [
    "머신러닝 예측 방식에 따라 다음 중 하나를 골라 import 합니다."
   ]
  },
  {
   "cell_type": "code",
   "execution_count": null,
   "id": "fe755196",
   "metadata": {
    "id": "fe755196"
   },
   "outputs": [],
   "source": [
    "from pycaret.regression import *        # 회귀"
   ]
  },
  {
   "cell_type": "markdown",
   "id": "099f81a7",
   "metadata": {
    "id": "099f81a7"
   },
   "source": [
    "**`setup` 함수**\n",
    "\n",
    "- `data`: 학습할 데이터셋을 지정합니다.\n",
    "- `target`: 예측할 대상(target) 컬럼을 지정합니다.\n",
    "- `session_id`: SEED 값을 지정합니다."
   ]
  },
  {
   "cell_type": "code",
   "execution_count": null,
   "id": "XQ3dwHU9Lb5r",
   "metadata": {
    "id": "XQ3dwHU9Lb5r"
   },
   "outputs": [],
   "source": [
    "train.head(3)"
   ]
  },
  {
   "cell_type": "code",
   "execution_count": null,
   "id": "Z7zfUMjjYn95",
   "metadata": {
    "id": "Z7zfUMjjYn95"
   },
   "outputs": [],
   "source": [
    "clf = setup(data=train, \n",
    "            target='charges', \n",
    "            session_id=123, \n",
    "            verbose=False,\n",
    "            ) "
   ]
  },
  {
   "cell_type": "markdown",
   "id": "b91d2d5d",
   "metadata": {
    "id": "b91d2d5d"
   },
   "source": [
    "## 모든 모델에 대한 학습 compare_models()\n",
    "\n",
    "`compare_models`\n",
    "- `sort`: 정렬 기준이 되는 평가지표를 설정합니다.\n",
    "- `n_select`: 상위 N개의 알고리즘을 선택합니다.\n",
    "- `fold`: Cross Validation 평가 Fold의 개수를 지정합니다.\n",
    "- `round`: 결과를 소수 N째자리 까지 반올림하여 표기합니다."
   ]
  },
  {
   "cell_type": "code",
   "execution_count": null,
   "id": "0a74e38e",
   "metadata": {
    "id": "0a74e38e"
   },
   "outputs": [],
   "source": [
    "best_models = compare_models(n_select=3, fold=5, round=2, sort='mae')"
   ]
  },
  {
   "cell_type": "markdown",
   "id": "t68rVj-gfciG",
   "metadata": {
    "id": "t68rVj-gfciG"
   },
   "source": [
    "### 모델 블렌딩 blend_models\n",
    "\n",
    "- `compare_models`로 추출된 best 모델에 대하여 모델 블렌딩하여 성능 개선\n",
    "- `Soft` voting 방식으로 `estimator_list`에 적용된 모델을 앙상블\n",
    "- `Voting Ensemble`"
   ]
  },
  {
   "cell_type": "code",
   "execution_count": null,
   "id": "qLwzgiNYfG8N",
   "metadata": {
    "id": "qLwzgiNYfG8N"
   },
   "outputs": [],
   "source": [
    "blended_models = blend_models(best_models, fold=5)"
   ]
  },
  {
   "cell_type": "markdown",
   "id": "JwzPvXm2hqCf",
   "metadata": {
    "id": "JwzPvXm2hqCf"
   },
   "source": [
    "## 단일 모델 생성 create_models()"
   ]
  },
  {
   "cell_type": "markdown",
   "id": "2KXSiuGTIO96",
   "metadata": {
    "id": "2KXSiuGTIO96"
   },
   "source": [
    "단일 모델을 생성하기 위해서는 `create_model`로 생성할 수 있습니다."
   ]
  },
  {
   "cell_type": "code",
   "execution_count": null,
   "id": "2f2c631f",
   "metadata": {
    "id": "2f2c631f"
   },
   "outputs": [],
   "source": [
    "models()"
   ]
  },
  {
   "cell_type": "code",
   "execution_count": null,
   "id": "C3B7yEI1hvae",
   "metadata": {
    "id": "C3B7yEI1hvae"
   },
   "outputs": [],
   "source": [
    "dt = create_model('dt')"
   ]
  },
  {
   "cell_type": "markdown",
   "id": "hwihJrs9Iyvo",
   "metadata": {
    "id": "hwihJrs9Iyvo"
   },
   "source": [
    "## 모델 분석: interpret_model()"
   ]
  },
  {
   "cell_type": "markdown",
   "id": "So3v1yFWIhk-",
   "metadata": {
    "id": "So3v1yFWIhk-"
   },
   "source": [
    "### 특성 중요도 Feature Importances\n",
    "\n",
    "각 특성별 종속변수(Y)에 미치는 영향도를 계산"
   ]
  },
  {
   "cell_type": "code",
   "execution_count": null,
   "id": "eb766280",
   "metadata": {},
   "outputs": [],
   "source": [
    "plot_model(dt, plot='feature')"
   ]
  },
  {
   "cell_type": "code",
   "execution_count": null,
   "id": "e-D5qHvNIgER",
   "metadata": {
    "id": "e-D5qHvNIgER"
   },
   "outputs": [],
   "source": [
    "# 그림을 png로 저장하기 위해서는 save=True 입력\n",
    "plot_model(dt, plot='feature', save=True)"
   ]
  },
  {
   "cell_type": "markdown",
   "id": "9dd31608",
   "metadata": {},
   "source": [
    "### 예측 값과 실제 값을 비교"
   ]
  },
  {
   "cell_type": "code",
   "execution_count": null,
   "id": "8f054ad1",
   "metadata": {},
   "outputs": [],
   "source": [
    "plot_model(dt, plot='error')"
   ]
  },
  {
   "cell_type": "markdown",
   "id": "aa37705a",
   "metadata": {},
   "source": [
    "### Shap Value 분석\n",
    "\n",
    "SHAP (SHapley Additive exPlanations) 값은 머신 러닝 모델의 예측을 개별적으로 설명하는 방법 중 하나입니다. 이 값은 샘플의 각 특성이 예측에 어떤 영향을 미쳤는지를 설명하는 중요한 정보를 제공합니다.\n",
    "\n",
    "SHAP 값은 Shapley 값이라는 개념에 기반합니다. Shapley 값은 게임 이론에서 유래한 개념으로, 각각의 기여도가 공정하게 분배되는 것을 보장하는 적합한 방법을 제공합니다. Shapley 값은 각 특성의 기여도를 측정하는 데 사용됩니다."
   ]
  },
  {
   "cell_type": "code",
   "execution_count": null,
   "id": "1790e20e",
   "metadata": {},
   "outputs": [],
   "source": [
    "interpret_model(dt)"
   ]
  },
  {
   "cell_type": "code",
   "execution_count": null,
   "id": "b6ca9c6d",
   "metadata": {},
   "outputs": [],
   "source": [
    "# 상관관계 분석\n",
    "interpret_model(dt, plot = 'correlation')"
   ]
  },
  {
   "cell_type": "code",
   "execution_count": null,
   "id": "5373bbdd",
   "metadata": {},
   "outputs": [],
   "source": [
    "# feature 에 분석을 원하는 컬럼명을 대입합니다\n",
    "interpret_model(dt, plot = 'correlation', feature = 'bmi')"
   ]
  },
  {
   "cell_type": "markdown",
   "id": "88deeb4f",
   "metadata": {},
   "source": [
    "### PDP 란?"
   ]
  },
  {
   "cell_type": "markdown",
   "id": "c88877f6",
   "metadata": {},
   "source": [
    "PDP는 대상 특성의 값이 모델의 예측값에 미치는 영향력을 시각화합니다. 일반적으로 PDP는 대상 특성의 범위를 나열하여 특성의 범위에 따른 모델의 출력값의 변화를 보여줍니다. PDP를 그림으로 나타내면 x축은 대상 특성의 값이 변화하는 범위를 나타내고, y축은 모델의 출력값을 나타냅니다. PDP를 통해 특정 특성이 모델의 예측값에 미치는 영향력을 파악할 수 있습니다."
   ]
  },
  {
   "cell_type": "code",
   "execution_count": null,
   "id": "960ec295",
   "metadata": {},
   "outputs": [],
   "source": [
    "interpret_model(dt, plot = 'pdp', feature='bmi')"
   ]
  },
  {
   "cell_type": "code",
   "execution_count": null,
   "id": "a7a90166",
   "metadata": {},
   "outputs": [],
   "source": [
    "interpret_model(dt, plot = 'pdp', feature='age')"
   ]
  },
  {
   "cell_type": "markdown",
   "id": "ombHKHXoli3a",
   "metadata": {
    "id": "ombHKHXoli3a"
   },
   "source": [
    "## 모델 예측: predict_model()\n",
    "\n",
    "- `Label`에 예측된 결과를 확인할 수 있습니다.\n",
    "- `Score`에 예측된 결과의 **확률** 값을 확인할 수 있습니다."
   ]
  },
  {
   "cell_type": "code",
   "execution_count": null,
   "id": "aR5eG-KrGGvc",
   "metadata": {
    "id": "aR5eG-KrGGvc"
   },
   "outputs": [],
   "source": [
    "prediction = predict_model(data=test, estimator=blended_models)"
   ]
  }
 ],
 "metadata": {
  "colab": {
   "machine_shape": "hm",
   "name": "02_회귀_level1",
   "provenance": []
  },
  "kernelspec": {
   "display_name": "Python 3 (ipykernel)",
   "language": "python",
   "name": "python3"
  },
  "language_info": {
   "codemirror_mode": {
    "name": "ipython",
    "version": 3
   },
   "file_extension": ".py",
   "mimetype": "text/x-python",
   "name": "python",
   "nbconvert_exporter": "python",
   "pygments_lexer": "ipython3",
   "version": "3.8.16"
  }
 },
 "nbformat": 4,
 "nbformat_minor": 5
}
