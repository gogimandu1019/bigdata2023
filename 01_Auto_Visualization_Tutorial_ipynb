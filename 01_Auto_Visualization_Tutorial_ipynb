{
  "cells": [
    {
      "cell_type": "markdown",
      "metadata": {
        "id": "view-in-github",
        "colab_type": "text"
      },
      "source": [
        "<a href=\"https://colab.research.google.com/github/gogimandu1019/bigdata2023/blob/main/01_Auto_Visualization_Tutorial_ipynb\" target=\"_parent\"><img src=\"https://colab.research.google.com/assets/colab-badge.svg\" alt=\"Open In Colab\"/></a>"
      ]
    },
    {
      "cell_type": "markdown",
      "id": "726cef0d",
      "metadata": {
        "id": "726cef0d"
      },
      "source": [
        "실습을 위한 데이터셋을 로드합니다."
      ]
    },
    {
      "cell_type": "code",
      "execution_count": null,
      "id": "0a7b42dd",
      "metadata": {
        "id": "0a7b42dd"
      },
      "outputs": [],
      "source": [
        "# 샘플 데이터셋 로드\n",
        "import seaborn as sns\n",
        "\n",
        "dataset = sns.load_dataset('titanic')"
      ]
    },
    {
      "cell_type": "markdown",
      "id": "670653d7",
      "metadata": {
        "id": "670653d7"
      },
      "source": [
        "## dataprep\n",
        "\n",
        "`dataprep`은 탐색적 데이터 분석(EDA)과 데이터 전처리를 도와주는 라이브러리 입니다.\n",
        "\n",
        "자동으로 완성해주는 HTML 형식의 인터랙티브한 리포트(report)와 편리한 데이터 클린징 도구 때문에 많은 사랑을 받고 있는 대표적인 데이터 전처리 전문 도구 입니다.\n",
        "\n",
        "[링크](https://github.com/sfu-db/dataprep)"
      ]
    },
    {
      "cell_type": "markdown",
      "id": "a45a16fc",
      "metadata": {
        "id": "a45a16fc"
      },
      "source": [
        "설치 방법"
      ]
    },
    {
      "cell_type": "code",
      "execution_count": null,
      "id": "1a0382f9",
      "metadata": {
        "id": "1a0382f9"
      },
      "outputs": [],
      "source": [
        "!pip install dataprep -q"
      ]
    },
    {
      "cell_type": "code",
      "execution_count": null,
      "id": "9a0ba341",
      "metadata": {
        "scrolled": false,
        "id": "9a0ba341"
      },
      "outputs": [],
      "source": [
        "from dataprep.eda import plot\n",
        "from dataprep.datasets import load_dataset\n",
        "import numpy as np\n",
        "\n",
        "df = load_dataset('adult')\n",
        "plot(df)"
      ]
    },
    {
      "cell_type": "code",
      "execution_count": null,
      "id": "1d177c6e",
      "metadata": {
        "id": "1d177c6e"
      },
      "outputs": [],
      "source": [
        "from dataprep.datasets import load_dataset\n",
        "from dataprep.eda import create_report\n",
        "\n",
        "\n",
        "create_report(dataset).show_browser()"
      ]
    },
    {
      "cell_type": "markdown",
      "id": "3e57437f",
      "metadata": {
        "id": "3e57437f"
      },
      "source": [
        "## 설치"
      ]
    },
    {
      "cell_type": "code",
      "execution_count": null,
      "id": "74f24bf2",
      "metadata": {
        "id": "74f24bf2"
      },
      "outputs": [],
      "source": [
        "!pip install sweetviz"
      ]
    },
    {
      "cell_type": "markdown",
      "id": "aa4d5259",
      "metadata": {
        "id": "aa4d5259"
      },
      "source": [
        "## 사용법"
      ]
    },
    {
      "cell_type": "code",
      "execution_count": null,
      "id": "68065f9e",
      "metadata": {
        "id": "68065f9e"
      },
      "outputs": [],
      "source": [
        "# 모듈 import\n",
        "import sweetviz as sv"
      ]
    },
    {
      "cell_type": "code",
      "execution_count": null,
      "id": "d6587d85",
      "metadata": {
        "id": "d6587d85"
      },
      "outputs": [],
      "source": [
        "report = sv.analyze(dataset)"
      ]
    },
    {
      "cell_type": "code",
      "execution_count": null,
      "id": "4f35bff4",
      "metadata": {
        "id": "4f35bff4"
      },
      "outputs": [],
      "source": [
        "report.show_html('./dataset-report.html')"
      ]
    }
  ],
  "metadata": {
    "kernelspec": {
      "display_name": "Python 3 (ipykernel)",
      "language": "python",
      "name": "python3"
    },
    "language_info": {
      "codemirror_mode": {
        "name": "ipython",
        "version": 3
      },
      "file_extension": ".py",
      "mimetype": "text/x-python",
      "name": "python",
      "nbconvert_exporter": "python",
      "pygments_lexer": "ipython3",
      "version": "3.8.13"
    },
    "colab": {
      "provenance": [],
      "include_colab_link": true
    }
  },
  "nbformat": 4,
  "nbformat_minor": 5
}